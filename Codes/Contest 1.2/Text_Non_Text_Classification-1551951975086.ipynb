{
  "cells": [
    {
      "metadata": {
        "id": "a192xmwKijHs",
        "colab_type": "code",
        "colab": {},
        "trusted": true,
        "_uuid": "d307bb31c90d247d73618f20aa2069d46a7d8273"
      },
      "cell_type": "code",
      "source": "import os\nimport sys\nimport pickle\nimport numpy as np\nimport pandas as pd\nfrom PIL import Image, ImageFilter\nfrom tqdm import tqdm_notebook\nfrom sklearn.preprocessing import StandardScaler\nfrom sklearn.metrics import accuracy_score, mean_squared_error, log_loss, confusion_matrix\nimport matplotlib.pyplot as plt\n\nnp.random.seed(100)\nLEVEL = 'level_1'",
      "execution_count": 25,
      "outputs": []
    },
    {
      "metadata": {
        "id": "fIuRdSezijHx",
        "colab_type": "code",
        "colab": {},
        "trusted": true,
        "_uuid": "ad069ae08eebce0925c77763110750744ff00939"
      },
      "cell_type": "code",
      "source": "class SigmoidNeuron:\n    def __init__(self):\n        self.w = None\n        self.b = None\n    \n    def perceptron(self, x):\n        return np.dot(x, self.w.T) + self.b\n    \n    def sigmoid(self, x):\n        return 1.0/(1.0 + np.exp(-x))\n    \n    def grad_w_mse(self, x, y):\n        y_pred = self.sigmoid(self.perceptron(x))\n        return (y_pred - y) * y_pred * (1 - y_pred) * x\n\n    def grad_b_mse(self, x, y):\n        y_pred = self.sigmoid(self.perceptron(x))\n        return (y_pred - y) * y_pred * (1 - y_pred)\n    \n    def grad_w_ce(self, x, y):\n        y_pred = self.sigmoid(self.perceptron(x))\n        if y == 0:\n            return y_pred * x\n        elif y == 1:\n            return -1 * (1 - y_pred) * x\n        else:\n            raise ValueError(\"y should be 0 or 1\")\n    \n    def grad_b_ce(self, x, y):\n        y_pred = self.sigmoid(self.perceptron(x))\n        if y == 0:\n            return y_pred \n        elif y == 1:\n            return -1 * (1 - y_pred)\n        else:\n            raise ValueError(\"y should be 0 or 1\")\n\n    def fit(self, X, Y, epochs=1, learning_rate=1, initialise=True, loss_fn=\"mse\", display_loss=False):\n    \n    # initialise w, b\n        if initialise:\n            self.w = np.random.randn(1, X.shape[1])\n            self.b = 0\n\n        if display_loss:\n            loss = {}\n\n        for i in tqdm_notebook(range(epochs), total=epochs, unit=\"epoch\"):\n            dw = 0\n            db = 0\n            for x, y in zip(X, Y):\n                if loss_fn == \"mse\":\n                    dw += self.grad_w_mse(x, y)\n                    db += self.grad_b_mse(x, y) \n                elif loss_fn == \"ce\":\n                    dw += self.grad_w_ce(x, y)\n                    db += self.grad_b_ce(x, y)\n            self.w -= learning_rate * dw\n            self.b -= learning_rate * db\n\n            if display_loss:\n                Y_pred = self.sigmoid(self.perceptron(X))\n                if loss_fn == \"mse\":\n                    loss[i] = mean_squared_error(Y, Y_pred)\n                elif loss_fn == \"ce\":\n                    loss[i] = log_loss(Y, Y_pred)\n\n        if display_loss:\n            plt.plot(loss.values())\n            plt.xlabel('Epochs')\n            if loss_fn == \"mse\":\n                plt.ylabel('Mean Squared Error')\n            elif loss_fn == \"ce\":\n                plt.ylabel('Log Loss')\n            plt.show()\n    \n    def predict(self, X):\n        Y_pred = []\n        for x in X:\n            y_pred = self.sigmoid(self.perceptron(x))\n        Y_pred.append(y_pred)\n        return np.array(Y_pred)",
      "execution_count": 26,
      "outputs": []
    },
    {
      "metadata": {
        "id": "VDe2wjl_ijH0",
        "colab_type": "code",
        "colab": {},
        "trusted": true,
        "_uuid": "eec1186a5514f1cd8ca5084405438e1538af724a"
      },
      "cell_type": "code",
      "source": "def read_all(folder_path, key_prefix=\"\"):\n    '''\n    It returns a dictionary with 'file names' as keys and 'flattened image arrays' as values.\n    '''\n    print(\"Reading:\")\n    images = {}\n    files = os.listdir(folder_path)\n    for i, file_name in tqdm_notebook(enumerate(files), total=len(files)):\n        file_path = os.path.join(folder_path, file_name)\n        image_index = key_prefix + file_name[:-4]\n        image = Image.open(file_path)\n        image = image.convert(\"L\")\n        images[image_index] = np.array(image.copy()).flatten()\n        image.close()\n    return images",
      "execution_count": 27,
      "outputs": []
    },
    {
      "metadata": {
        "id": "mjuaN532ijH4",
        "colab_type": "code",
        "colab": {},
        "outputId": "4124ae5e-4a9c-44dc-8c84-7919e6927fe5",
        "trusted": true,
        "_uuid": "a68f5d5d03bb35a8d422095e6b41434e8ee0e339"
      },
      "cell_type": "code",
      "source": "#languages = ['ta', 'hi', 'en']\n\n#images_train = read_all(\"dataset_train/\"+LEVEL+\"/\"+\"background\", key_prefix='bgr_') # change the path\n#for language in languages:\n#    images_train.update(read_all(\"dataset_train/\"+LEVEL+\"/\"+language, key_prefix=language+\"_\" ))\n#print(len(images_train))\n\n#images_test = read_all(\"dataset_test/kaggle_\"+LEVEL, key_prefix='') # change the path\n#print(len(images_test))\n\nlanguages = ['ta', 'hi', 'en']\n\nimages_train = read_all(\"../input/level_1_train/\"+LEVEL+\"/\"+\"background\", key_prefix='bgr_') # change the path\nfor language in languages:\n    images_train.update(read_all(\"../input/level_1_train/\"+LEVEL+\"/\"+language, key_prefix=language+\"_\" ))\nprint(len(images_train))\n\nimages_test = read_all(\"../input/level_1_test/kaggle_\"+LEVEL, key_prefix='') # change the path\nprint(len(images_test))",
      "execution_count": 28,
      "outputs": [
        {
          "output_type": "stream",
          "text": "Reading:\n",
          "name": "stdout"
        },
        {
          "output_type": "display_data",
          "data": {
            "text/plain": "HBox(children=(IntProgress(value=0, max=450), HTML(value='')))",
            "application/vnd.jupyter.widget-view+json": {
              "version_major": 2,
              "version_minor": 0,
              "model_id": "23eaa7722a0e4f51b9c9200c828a3b6e"
            }
          },
          "metadata": {}
        },
        {
          "output_type": "stream",
          "text": "\nReading:\n",
          "name": "stdout"
        },
        {
          "output_type": "display_data",
          "data": {
            "text/plain": "HBox(children=(IntProgress(value=0, max=150), HTML(value='')))",
            "application/vnd.jupyter.widget-view+json": {
              "version_major": 2,
              "version_minor": 0,
              "model_id": "d097552c3f4b4110b89e937e6ab19ed3"
            }
          },
          "metadata": {}
        },
        {
          "output_type": "stream",
          "text": "\nReading:\n",
          "name": "stdout"
        },
        {
          "output_type": "display_data",
          "data": {
            "text/plain": "HBox(children=(IntProgress(value=0, max=150), HTML(value='')))",
            "application/vnd.jupyter.widget-view+json": {
              "version_major": 2,
              "version_minor": 0,
              "model_id": "dc211d6386a943e9b2668f8c78b60e84"
            }
          },
          "metadata": {}
        },
        {
          "output_type": "stream",
          "text": "\nReading:\n",
          "name": "stdout"
        },
        {
          "output_type": "display_data",
          "data": {
            "text/plain": "HBox(children=(IntProgress(value=0, max=150), HTML(value='')))",
            "application/vnd.jupyter.widget-view+json": {
              "version_major": 2,
              "version_minor": 0,
              "model_id": "526d4a3726714d8e83fea96ed445733d"
            }
          },
          "metadata": {}
        },
        {
          "output_type": "stream",
          "text": "\n900\nReading:\n",
          "name": "stdout"
        },
        {
          "output_type": "display_data",
          "data": {
            "text/plain": "HBox(children=(IntProgress(value=0, max=300), HTML(value='')))",
            "application/vnd.jupyter.widget-view+json": {
              "version_major": 2,
              "version_minor": 0,
              "model_id": "8408d8c706ce45dfa4d24144e1c941ab"
            }
          },
          "metadata": {}
        },
        {
          "output_type": "stream",
          "text": "\n300\n",
          "name": "stdout"
        }
      ]
    },
    {
      "metadata": {
        "id": "xqcTJRmSijH-",
        "colab_type": "code",
        "colab": {},
        "outputId": "3a26f608-868b-498d-b18d-bfae2b452d4e",
        "trusted": true,
        "_uuid": "af7ec4d576c4ed4887a9b3b56f3bcee15ba2b663"
      },
      "cell_type": "code",
      "source": "list(images_test.keys())[:5]",
      "execution_count": 29,
      "outputs": [
        {
          "output_type": "execute_result",
          "execution_count": 29,
          "data": {
            "text/plain": "['171', '249', '82', '163', '16']"
          },
          "metadata": {}
        }
      ]
    },
    {
      "metadata": {
        "id": "yQUKxV_FijIC",
        "colab_type": "code",
        "colab": {},
        "outputId": "e6f2538b-3285-49ea-d6fd-7fbadc2bb975",
        "trusted": true,
        "_uuid": "3b76d340c957bc6e5930d732503ae6011fea4fd6"
      },
      "cell_type": "code",
      "source": "X_train = []\nY_train = []\nfor key, value in images_train.items():\n    X_train.append(value)\n    if key[:4] == \"bgr_\":\n        Y_train.append(0)\n    else:\n        Y_train.append(1)\n\nID_test = []\nX_test = []\nfor key, value in images_test.items():\n    ID_test.append(int(key))\n    X_test.append(value)\n\nX_train = np.array(X_train)\nY_train = np.array(Y_train)\nX_test = np.array(X_test)\n\nprint(X_train.shape, Y_train.shape)\nprint(X_test.shape)",
      "execution_count": 30,
      "outputs": [
        {
          "output_type": "stream",
          "text": "(900, 256) (900,)\n(300, 256)\n",
          "name": "stdout"
        }
      ]
    },
    {
      "metadata": {
        "id": "wy3IKx26ijIG",
        "colab_type": "code",
        "colab": {},
        "outputId": "f571f85d-1fe6-4a33-bcf1-ca1574aa3709",
        "trusted": true,
        "_uuid": "b6dd3e1034f1438e44ccaf848466520f14670bf5"
      },
      "cell_type": "code",
      "source": "scaler = StandardScaler()\nX_scaled_train = scaler.fit_transform(X_train)\nX_scaled_test = scaler.transform(X_test)",
      "execution_count": 31,
      "outputs": [
        {
          "output_type": "stream",
          "text": "/opt/conda/lib/python3.6/site-packages/sklearn/utils/validation.py:595: DataConversionWarning: Data with input dtype uint8 was converted to float64 by StandardScaler.\n  warnings.warn(msg, DataConversionWarning)\n/opt/conda/lib/python3.6/site-packages/sklearn/utils/validation.py:595: DataConversionWarning: Data with input dtype uint8 was converted to float64 by StandardScaler.\n  warnings.warn(msg, DataConversionWarning)\n/opt/conda/lib/python3.6/site-packages/sklearn/utils/validation.py:595: DataConversionWarning: Data with input dtype uint8 was converted to float64 by StandardScaler.\n  warnings.warn(msg, DataConversionWarning)\n",
          "name": "stderr"
        }
      ]
    },
    {
      "metadata": {
        "id": "eboQW2n1ijIK",
        "colab_type": "code",
        "colab": {},
        "outputId": "fa8fbf5d-5d5c-4463-aa3c-909d6698b9b0",
        "trusted": true,
        "_uuid": "b27383ead511be0d3e69fd6daca9d99267bc86c5"
      },
      "cell_type": "code",
      "source": "sn_mse = SigmoidNeuron()\nsn_mse.fit(X_scaled_train, Y_train, epochs=100, learning_rate=0.015, loss_fn=\"mse\", display_loss=True)",
      "execution_count": 32,
      "outputs": [
        {
          "output_type": "display_data",
          "data": {
            "text/plain": "HBox(children=(IntProgress(value=0), HTML(value='')))",
            "application/vnd.jupyter.widget-view+json": {
              "version_major": 2,
              "version_minor": 0,
              "model_id": "95f726546f11413198ac49f7f7ae0928"
            }
          },
          "metadata": {}
        },
        {
          "output_type": "stream",
          "text": "\n",
          "name": "stdout"
        },
        {
          "output_type": "display_data",
          "data": {
            "text/plain": "<Figure size 432x288 with 1 Axes>",
            "image/png": "[encoded data removed]"
          },
          "metadata": {}
        }
      ]
    },
    {
      "metadata": {
        "id": "547SFsgsijIO",
        "colab_type": "code",
        "colab": {},
        "outputId": "e6595d5e-a9e0-4b5f-f7b5-a56297bc69c0",
        "trusted": true,
        "_uuid": "255354a52bd0939a95d27a2b5f12651e85bf9798"
      },
      "cell_type": "code",
      "source": "sn_ce = SigmoidNeuron()\nsn_ce.fit(X_scaled_train, Y_train, epochs=100, learning_rate=0.015, loss_fn=\"ce\", display_loss=True)",
      "execution_count": 33,
      "outputs": [
        {
          "output_type": "display_data",
          "data": {
            "text/plain": "HBox(children=(IntProgress(value=0), HTML(value='')))",
            "application/vnd.jupyter.widget-view+json": {
              "version_major": 2,
              "version_minor": 0,
              "model_id": "11dc5211f2cc4d7288764435085cddb5"
            }
          },
          "metadata": {}
        },
        {
          "output_type": "stream",
          "text": "\n",
          "name": "stdout"
        },
        {
          "output_type": "display_data",
          "data": {
            "text/plain": "<Figure size 432x288 with 1 Axes>",
            "image/png": "[encoded data removed]"
          },
          "metadata": {}
        }
      ]
    },
    {
      "metadata": {
        "id": "_a3_-9zYijIS",
        "colab_type": "code",
        "colab": {},
        "trusted": true,
        "_uuid": "2060699b4e4bbbd05eb454a721f2570784e3cb9a"
      },
      "cell_type": "code",
      "source": "def print_accuracy(sn):\n    Y_pred_train = sn.predict(X_scaled_train)\n    Y_pred_binarised_train = (Y_pred_train >= 0.5).astype(\"int\").ravel()\n    accuracy_train = accuracy_score(Y_pred_binarised_train, Y_train)\n    print(\"Train Accuracy : \", accuracy_train)\n    print(\"-\"*50)",
      "execution_count": 34,
      "outputs": []
    },
    {
      "metadata": {
        "id": "lqe2g9PLijIW",
        "colab_type": "code",
        "colab": {},
        "outputId": "0ce4b45c-78f5-4323-829b-db3e12c3f268",
        "trusted": true,
        "_uuid": "29638c14bdb5c15c7734493f13c2dd3e1c403a99"
      },
      "cell_type": "code",
      "source": "print_accuracy(sn_mse)\nprint_accuracy(sn_ce)",
      "execution_count": 35,
      "outputs": [
        {
          "output_type": "error",
          "ename": "ValueError",
          "evalue": "Found input variables with inconsistent numbers of samples: [1, 900]",
          "traceback": [
            "\u001b[0;31m---------------------------------------------------------------------------\u001b[0m",
            "\u001b[0;31mValueError\u001b[0m                                Traceback (most recent call last)",
            "\u001b[0;32m<ipython-input-35-b6f1886de77d>\u001b[0m in \u001b[0;36m<module>\u001b[0;34m()\u001b[0m\n\u001b[0;32m----> 1\u001b[0;31m \u001b[0mprint_accuracy\u001b[0m\u001b[0;34m(\u001b[0m\u001b[0msn_mse\u001b[0m\u001b[0;34m)\u001b[0m\u001b[0;34m\u001b[0m\u001b[0m\n\u001b[0m\u001b[1;32m      2\u001b[0m \u001b[0mprint_accuracy\u001b[0m\u001b[0;34m(\u001b[0m\u001b[0msn_ce\u001b[0m\u001b[0;34m)\u001b[0m\u001b[0;34m\u001b[0m\u001b[0m\n",
            "\u001b[0;32m<ipython-input-34-1cd82b75f94f>\u001b[0m in \u001b[0;36mprint_accuracy\u001b[0;34m(sn)\u001b[0m\n\u001b[1;32m      2\u001b[0m     \u001b[0mY_pred_train\u001b[0m \u001b[0;34m=\u001b[0m \u001b[0msn\u001b[0m\u001b[0;34m.\u001b[0m\u001b[0mpredict\u001b[0m\u001b[0;34m(\u001b[0m\u001b[0mX_scaled_train\u001b[0m\u001b[0;34m)\u001b[0m\u001b[0;34m\u001b[0m\u001b[0m\n\u001b[1;32m      3\u001b[0m     \u001b[0mY_pred_binarised_train\u001b[0m \u001b[0;34m=\u001b[0m \u001b[0;34m(\u001b[0m\u001b[0mY_pred_train\u001b[0m \u001b[0;34m>=\u001b[0m \u001b[0;36m0.5\u001b[0m\u001b[0;34m)\u001b[0m\u001b[0;34m.\u001b[0m\u001b[0mastype\u001b[0m\u001b[0;34m(\u001b[0m\u001b[0;34m\"int\"\u001b[0m\u001b[0;34m)\u001b[0m\u001b[0;34m.\u001b[0m\u001b[0mravel\u001b[0m\u001b[0;34m(\u001b[0m\u001b[0;34m)\u001b[0m\u001b[0;34m\u001b[0m\u001b[0m\n\u001b[0;32m----> 4\u001b[0;31m     \u001b[0maccuracy_train\u001b[0m \u001b[0;34m=\u001b[0m \u001b[0maccuracy_score\u001b[0m\u001b[0;34m(\u001b[0m\u001b[0mY_pred_binarised_train\u001b[0m\u001b[0;34m,\u001b[0m \u001b[0mY_train\u001b[0m\u001b[0;34m)\u001b[0m\u001b[0;34m\u001b[0m\u001b[0m\n\u001b[0m\u001b[1;32m      5\u001b[0m     \u001b[0mprint\u001b[0m\u001b[0;34m(\u001b[0m\u001b[0;34m\"Train Accuracy : \"\u001b[0m\u001b[0;34m,\u001b[0m \u001b[0maccuracy_train\u001b[0m\u001b[0;34m)\u001b[0m\u001b[0;34m\u001b[0m\u001b[0m\n\u001b[1;32m      6\u001b[0m     \u001b[0mprint\u001b[0m\u001b[0;34m(\u001b[0m\u001b[0;34m\"-\"\u001b[0m\u001b[0;34m*\u001b[0m\u001b[0;36m50\u001b[0m\u001b[0;34m)\u001b[0m\u001b[0;34m\u001b[0m\u001b[0m\n",
            "\u001b[0;32m/opt/conda/lib/python3.6/site-packages/sklearn/metrics/classification.py\u001b[0m in \u001b[0;36maccuracy_score\u001b[0;34m(y_true, y_pred, normalize, sample_weight)\u001b[0m\n\u001b[1;32m    174\u001b[0m \u001b[0;34m\u001b[0m\u001b[0m\n\u001b[1;32m    175\u001b[0m     \u001b[0;31m# Compute accuracy for each possible representation\u001b[0m\u001b[0;34m\u001b[0m\u001b[0;34m\u001b[0m\u001b[0m\n\u001b[0;32m--> 176\u001b[0;31m     \u001b[0my_type\u001b[0m\u001b[0;34m,\u001b[0m \u001b[0my_true\u001b[0m\u001b[0;34m,\u001b[0m \u001b[0my_pred\u001b[0m \u001b[0;34m=\u001b[0m \u001b[0m_check_targets\u001b[0m\u001b[0;34m(\u001b[0m\u001b[0my_true\u001b[0m\u001b[0;34m,\u001b[0m \u001b[0my_pred\u001b[0m\u001b[0;34m)\u001b[0m\u001b[0;34m\u001b[0m\u001b[0m\n\u001b[0m\u001b[1;32m    177\u001b[0m     \u001b[0mcheck_consistent_length\u001b[0m\u001b[0;34m(\u001b[0m\u001b[0my_true\u001b[0m\u001b[0;34m,\u001b[0m \u001b[0my_pred\u001b[0m\u001b[0;34m,\u001b[0m \u001b[0msample_weight\u001b[0m\u001b[0;34m)\u001b[0m\u001b[0;34m\u001b[0m\u001b[0m\n\u001b[1;32m    178\u001b[0m     \u001b[0;32mif\u001b[0m \u001b[0my_type\u001b[0m\u001b[0;34m.\u001b[0m\u001b[0mstartswith\u001b[0m\u001b[0;34m(\u001b[0m\u001b[0;34m'multilabel'\u001b[0m\u001b[0;34m)\u001b[0m\u001b[0;34m:\u001b[0m\u001b[0;34m\u001b[0m\u001b[0m\n",
            "\u001b[0;32m/opt/conda/lib/python3.6/site-packages/sklearn/metrics/classification.py\u001b[0m in \u001b[0;36m_check_targets\u001b[0;34m(y_true, y_pred)\u001b[0m\n\u001b[1;32m     69\u001b[0m     \u001b[0my_pred\u001b[0m \u001b[0;34m:\u001b[0m \u001b[0marray\u001b[0m \u001b[0;32mor\u001b[0m \u001b[0mindicator\u001b[0m \u001b[0mmatrix\u001b[0m\u001b[0;34m\u001b[0m\u001b[0m\n\u001b[1;32m     70\u001b[0m     \"\"\"\n\u001b[0;32m---> 71\u001b[0;31m     \u001b[0mcheck_consistent_length\u001b[0m\u001b[0;34m(\u001b[0m\u001b[0my_true\u001b[0m\u001b[0;34m,\u001b[0m \u001b[0my_pred\u001b[0m\u001b[0;34m)\u001b[0m\u001b[0;34m\u001b[0m\u001b[0m\n\u001b[0m\u001b[1;32m     72\u001b[0m     \u001b[0mtype_true\u001b[0m \u001b[0;34m=\u001b[0m \u001b[0mtype_of_target\u001b[0m\u001b[0;34m(\u001b[0m\u001b[0my_true\u001b[0m\u001b[0;34m)\u001b[0m\u001b[0;34m\u001b[0m\u001b[0m\n\u001b[1;32m     73\u001b[0m     \u001b[0mtype_pred\u001b[0m \u001b[0;34m=\u001b[0m \u001b[0mtype_of_target\u001b[0m\u001b[0;34m(\u001b[0m\u001b[0my_pred\u001b[0m\u001b[0;34m)\u001b[0m\u001b[0;34m\u001b[0m\u001b[0m\n",
            "\u001b[0;32m/opt/conda/lib/python3.6/site-packages/sklearn/utils/validation.py\u001b[0m in \u001b[0;36mcheck_consistent_length\u001b[0;34m(*arrays)\u001b[0m\n\u001b[1;32m    233\u001b[0m     \u001b[0;32mif\u001b[0m \u001b[0mlen\u001b[0m\u001b[0;34m(\u001b[0m\u001b[0muniques\u001b[0m\u001b[0;34m)\u001b[0m \u001b[0;34m>\u001b[0m \u001b[0;36m1\u001b[0m\u001b[0;34m:\u001b[0m\u001b[0;34m\u001b[0m\u001b[0m\n\u001b[1;32m    234\u001b[0m         raise ValueError(\"Found input variables with inconsistent numbers of\"\n\u001b[0;32m--> 235\u001b[0;31m                          \" samples: %r\" % [int(l) for l in lengths])\n\u001b[0m\u001b[1;32m    236\u001b[0m \u001b[0;34m\u001b[0m\u001b[0m\n\u001b[1;32m    237\u001b[0m \u001b[0;34m\u001b[0m\u001b[0m\n",
            "\u001b[0;31mValueError\u001b[0m: Found input variables with inconsistent numbers of samples: [1, 900]"
          ]
        }
      ]
    },
    {
      "metadata": {
        "id": "8IMv7SCUijIa",
        "colab_type": "text",
        "_uuid": "7750bb39a038c9a43b9181d7875ee46691d493c5"
      },
      "cell_type": "markdown",
      "source": "## Sample Submission"
    },
    {
      "metadata": {
        "id": "4_pBsgYlijIb",
        "colab_type": "code",
        "colab": {},
        "trusted": true,
        "_uuid": "f343df6cfd739fbda96cb282693600e581c4c5c0"
      },
      "cell_type": "code",
      "source": "Y_pred_test = sn_ce.predict(X_scaled_test)\nY_pred_binarised_test = (Y_pred_test >= 0.5).astype(\"int\").ravel()\n\nsubmission = {}\nsubmission['ImageId'] = ID_test\nsubmission['Class'] = Y_pred_binarised_test\n\nsubmission = pd.DataFrame(submission)\nsubmission = submission[['ImageId', 'Class']]\nsubmission = submission.sort_values(['ImageId'])\nsubmission.to_csv(\"submisision.csv\", index=False)",
      "execution_count": null,
      "outputs": []
    },
    {
      "metadata": {
        "id": "LCkK3-CDijIe",
        "colab_type": "code",
        "colab": {},
        "trusted": true,
        "_uuid": "5d85912cab9236414d5fa3d042f796ea76781808"
      },
      "cell_type": "code",
      "source": "",
      "execution_count": null,
      "outputs": []
    }
  ],
  "metadata": {
    "colab": {
      "name": "Text - Non Text Classification.ipynb",
      "version": "0.3.2",
      "provenance": [],
      "collapsed_sections": []
    },
    "kernelspec": {
      "display_name": "Python 3",
      "language": "python",
      "name": "python3"
    },
    "language_info": {
      "name": "python",
      "version": "3.6.6",
      "mimetype": "text/x-python",
      "codemirror_mode": {
        "name": "ipython",
        "version": 3
      },
      "pygments_lexer": "ipython3",
      "nbconvert_exporter": "python",
      "file_extension": ".py"
    }
  },
  "nbformat": 4,
  "nbformat_minor": 1
}